{
 "cells": [
  {
   "cell_type": "code",
   "execution_count": 2,
   "id": "7dd32029",
   "metadata": {},
   "outputs": [],
   "source": [
    "import pandas as pd\n",
    "import numpy as np\n",
    "import matplotlib.pyplot as plt\n",
    "from sklearn.preprocessing import StandardScaler\n",
    "from sklearn.model_selection import train_test_split\n",
    "import seaborn as sns"
   ]
  },
  {
   "cell_type": "code",
   "execution_count": 3,
   "id": "85f24cdb",
   "metadata": {},
   "outputs": [
    {
     "name": "stdout",
     "output_type": "stream",
     "text": [
      "<class 'pandas.core.frame.DataFrame'>\n",
      "RangeIndex: 284807 entries, 0 to 284806\n",
      "Data columns (total 31 columns):\n",
      " #   Column  Non-Null Count   Dtype  \n",
      "---  ------  --------------   -----  \n",
      " 0   Time    284807 non-null  float64\n",
      " 1   V1      284807 non-null  float64\n",
      " 2   V2      284807 non-null  float64\n",
      " 3   V3      284807 non-null  float64\n",
      " 4   V4      284807 non-null  float64\n",
      " 5   V5      284807 non-null  float64\n",
      " 6   V6      284807 non-null  float64\n",
      " 7   V7      284807 non-null  float64\n",
      " 8   V8      284807 non-null  float64\n",
      " 9   V9      284807 non-null  float64\n",
      " 10  V10     284807 non-null  float64\n",
      " 11  V11     284807 non-null  float64\n",
      " 12  V12     284807 non-null  float64\n",
      " 13  V13     284807 non-null  float64\n",
      " 14  V14     284807 non-null  float64\n",
      " 15  V15     284807 non-null  float64\n",
      " 16  V16     284807 non-null  float64\n",
      " 17  V17     284807 non-null  float64\n",
      " 18  V18     284807 non-null  float64\n",
      " 19  V19     284807 non-null  float64\n",
      " 20  V20     284807 non-null  float64\n",
      " 21  V21     284807 non-null  float64\n",
      " 22  V22     284807 non-null  float64\n",
      " 23  V23     284807 non-null  float64\n",
      " 24  V24     284807 non-null  float64\n",
      " 25  V25     284807 non-null  float64\n",
      " 26  V26     284807 non-null  float64\n",
      " 27  V27     284807 non-null  float64\n",
      " 28  V28     284807 non-null  float64\n",
      " 29  Amount  284807 non-null  float64\n",
      " 30  Class   284807 non-null  int64  \n",
      "dtypes: float64(30), int64(1)\n",
      "memory usage: 67.4 MB\n"
     ]
    }
   ],
   "source": [
    "x = pd.read_csv('creditcard.csv')\n",
    "x.info()"
   ]
  },
  {
   "cell_type": "markdown",
   "id": "f9646ef5",
   "metadata": {},
   "source": [
    "## Exploratory Data Analysis\n",
    "\n",
    "The dataset has been collected and analysed during a research collaboration of Worldline and the Machine Learning Group (http://mlg.ulb.ac.be) of ULB (Université Libre de Bruxelles) on big data mining and fraud detection."
   ]
  },
  {
   "cell_type": "code",
   "execution_count": 4,
   "id": "5ffbfa0c",
   "metadata": {},
   "outputs": [
    {
     "data": {
      "text/html": [
       "<div>\n",
       "<style scoped>\n",
       "    .dataframe tbody tr th:only-of-type {\n",
       "        vertical-align: middle;\n",
       "    }\n",
       "\n",
       "    .dataframe tbody tr th {\n",
       "        vertical-align: top;\n",
       "    }\n",
       "\n",
       "    .dataframe thead th {\n",
       "        text-align: right;\n",
       "    }\n",
       "</style>\n",
       "<table border=\"1\" class=\"dataframe\">\n",
       "  <thead>\n",
       "    <tr style=\"text-align: right;\">\n",
       "      <th></th>\n",
       "      <th>Time</th>\n",
       "      <th>V1</th>\n",
       "      <th>V2</th>\n",
       "      <th>V3</th>\n",
       "      <th>V4</th>\n",
       "      <th>V5</th>\n",
       "      <th>V6</th>\n",
       "      <th>V7</th>\n",
       "      <th>V8</th>\n",
       "      <th>V9</th>\n",
       "      <th>...</th>\n",
       "      <th>V21</th>\n",
       "      <th>V22</th>\n",
       "      <th>V23</th>\n",
       "      <th>V24</th>\n",
       "      <th>V25</th>\n",
       "      <th>V26</th>\n",
       "      <th>V27</th>\n",
       "      <th>V28</th>\n",
       "      <th>Amount</th>\n",
       "      <th>Class</th>\n",
       "    </tr>\n",
       "  </thead>\n",
       "  <tbody>\n",
       "    <tr>\n",
       "      <th>0</th>\n",
       "      <td>0.0</td>\n",
       "      <td>-1.359807</td>\n",
       "      <td>-0.072781</td>\n",
       "      <td>2.536347</td>\n",
       "      <td>1.378155</td>\n",
       "      <td>-0.338321</td>\n",
       "      <td>0.462388</td>\n",
       "      <td>0.239599</td>\n",
       "      <td>0.098698</td>\n",
       "      <td>0.363787</td>\n",
       "      <td>...</td>\n",
       "      <td>-0.018307</td>\n",
       "      <td>0.277838</td>\n",
       "      <td>-0.110474</td>\n",
       "      <td>0.066928</td>\n",
       "      <td>0.128539</td>\n",
       "      <td>-0.189115</td>\n",
       "      <td>0.133558</td>\n",
       "      <td>-0.021053</td>\n",
       "      <td>149.62</td>\n",
       "      <td>0</td>\n",
       "    </tr>\n",
       "    <tr>\n",
       "      <th>1</th>\n",
       "      <td>0.0</td>\n",
       "      <td>1.191857</td>\n",
       "      <td>0.266151</td>\n",
       "      <td>0.166480</td>\n",
       "      <td>0.448154</td>\n",
       "      <td>0.060018</td>\n",
       "      <td>-0.082361</td>\n",
       "      <td>-0.078803</td>\n",
       "      <td>0.085102</td>\n",
       "      <td>-0.255425</td>\n",
       "      <td>...</td>\n",
       "      <td>-0.225775</td>\n",
       "      <td>-0.638672</td>\n",
       "      <td>0.101288</td>\n",
       "      <td>-0.339846</td>\n",
       "      <td>0.167170</td>\n",
       "      <td>0.125895</td>\n",
       "      <td>-0.008983</td>\n",
       "      <td>0.014724</td>\n",
       "      <td>2.69</td>\n",
       "      <td>0</td>\n",
       "    </tr>\n",
       "    <tr>\n",
       "      <th>2</th>\n",
       "      <td>1.0</td>\n",
       "      <td>-1.358354</td>\n",
       "      <td>-1.340163</td>\n",
       "      <td>1.773209</td>\n",
       "      <td>0.379780</td>\n",
       "      <td>-0.503198</td>\n",
       "      <td>1.800499</td>\n",
       "      <td>0.791461</td>\n",
       "      <td>0.247676</td>\n",
       "      <td>-1.514654</td>\n",
       "      <td>...</td>\n",
       "      <td>0.247998</td>\n",
       "      <td>0.771679</td>\n",
       "      <td>0.909412</td>\n",
       "      <td>-0.689281</td>\n",
       "      <td>-0.327642</td>\n",
       "      <td>-0.139097</td>\n",
       "      <td>-0.055353</td>\n",
       "      <td>-0.059752</td>\n",
       "      <td>378.66</td>\n",
       "      <td>0</td>\n",
       "    </tr>\n",
       "    <tr>\n",
       "      <th>3</th>\n",
       "      <td>1.0</td>\n",
       "      <td>-0.966272</td>\n",
       "      <td>-0.185226</td>\n",
       "      <td>1.792993</td>\n",
       "      <td>-0.863291</td>\n",
       "      <td>-0.010309</td>\n",
       "      <td>1.247203</td>\n",
       "      <td>0.237609</td>\n",
       "      <td>0.377436</td>\n",
       "      <td>-1.387024</td>\n",
       "      <td>...</td>\n",
       "      <td>-0.108300</td>\n",
       "      <td>0.005274</td>\n",
       "      <td>-0.190321</td>\n",
       "      <td>-1.175575</td>\n",
       "      <td>0.647376</td>\n",
       "      <td>-0.221929</td>\n",
       "      <td>0.062723</td>\n",
       "      <td>0.061458</td>\n",
       "      <td>123.50</td>\n",
       "      <td>0</td>\n",
       "    </tr>\n",
       "    <tr>\n",
       "      <th>4</th>\n",
       "      <td>2.0</td>\n",
       "      <td>-1.158233</td>\n",
       "      <td>0.877737</td>\n",
       "      <td>1.548718</td>\n",
       "      <td>0.403034</td>\n",
       "      <td>-0.407193</td>\n",
       "      <td>0.095921</td>\n",
       "      <td>0.592941</td>\n",
       "      <td>-0.270533</td>\n",
       "      <td>0.817739</td>\n",
       "      <td>...</td>\n",
       "      <td>-0.009431</td>\n",
       "      <td>0.798278</td>\n",
       "      <td>-0.137458</td>\n",
       "      <td>0.141267</td>\n",
       "      <td>-0.206010</td>\n",
       "      <td>0.502292</td>\n",
       "      <td>0.219422</td>\n",
       "      <td>0.215153</td>\n",
       "      <td>69.99</td>\n",
       "      <td>0</td>\n",
       "    </tr>\n",
       "  </tbody>\n",
       "</table>\n",
       "<p>5 rows × 31 columns</p>\n",
       "</div>"
      ],
      "text/plain": [
       "   Time        V1        V2        V3        V4        V5        V6        V7  \\\n",
       "0   0.0 -1.359807 -0.072781  2.536347  1.378155 -0.338321  0.462388  0.239599   \n",
       "1   0.0  1.191857  0.266151  0.166480  0.448154  0.060018 -0.082361 -0.078803   \n",
       "2   1.0 -1.358354 -1.340163  1.773209  0.379780 -0.503198  1.800499  0.791461   \n",
       "3   1.0 -0.966272 -0.185226  1.792993 -0.863291 -0.010309  1.247203  0.237609   \n",
       "4   2.0 -1.158233  0.877737  1.548718  0.403034 -0.407193  0.095921  0.592941   \n",
       "\n",
       "         V8        V9  ...       V21       V22       V23       V24       V25  \\\n",
       "0  0.098698  0.363787  ... -0.018307  0.277838 -0.110474  0.066928  0.128539   \n",
       "1  0.085102 -0.255425  ... -0.225775 -0.638672  0.101288 -0.339846  0.167170   \n",
       "2  0.247676 -1.514654  ...  0.247998  0.771679  0.909412 -0.689281 -0.327642   \n",
       "3  0.377436 -1.387024  ... -0.108300  0.005274 -0.190321 -1.175575  0.647376   \n",
       "4 -0.270533  0.817739  ... -0.009431  0.798278 -0.137458  0.141267 -0.206010   \n",
       "\n",
       "        V26       V27       V28  Amount  Class  \n",
       "0 -0.189115  0.133558 -0.021053  149.62      0  \n",
       "1  0.125895 -0.008983  0.014724    2.69      0  \n",
       "2 -0.139097 -0.055353 -0.059752  378.66      0  \n",
       "3 -0.221929  0.062723  0.061458  123.50      0  \n",
       "4  0.502292  0.219422  0.215153   69.99      0  \n",
       "\n",
       "[5 rows x 31 columns]"
      ]
     },
     "execution_count": 4,
     "metadata": {},
     "output_type": "execute_result"
    }
   ],
   "source": [
    "x.head()"
   ]
  },
  {
   "cell_type": "markdown",
   "id": "6cce4dbf",
   "metadata": {},
   "source": [
    "Here, the column called 'Class' is our dependent variable and will tell us if the transactions are fraudulent or not.<br>\n",
    "Class 0 - Transaction occurred is NON-FRAUDULENT.<br>\n",
    "Class 1 - Transaction occurred is FRAUDULENT."
   ]
  },
  {
   "cell_type": "code",
   "execution_count": 5,
   "id": "bf49d514",
   "metadata": {},
   "outputs": [
    {
     "data": {
      "text/plain": [
       "Class\n",
       "0    284315\n",
       "1       492\n",
       "dtype: int64"
      ]
     },
     "execution_count": 5,
     "metadata": {},
     "output_type": "execute_result"
    }
   ],
   "source": [
    "x.groupby('Class').size()"
   ]
  },
  {
   "cell_type": "code",
   "execution_count": 6,
   "id": "62df3a46",
   "metadata": {},
   "outputs": [
    {
     "data": {
      "text/plain": [
       "count    284807.000000\n",
       "mean         88.349619\n",
       "std         250.120109\n",
       "min           0.000000\n",
       "25%           5.600000\n",
       "50%          22.000000\n",
       "75%          77.165000\n",
       "max       25691.160000\n",
       "Name: Amount, dtype: float64"
      ]
     },
     "execution_count": 6,
     "metadata": {},
     "output_type": "execute_result"
    }
   ],
   "source": [
    "x['Amount'].describe()"
   ]
  },
  {
   "cell_type": "markdown",
   "id": "b77cbfd5",
   "metadata": {},
   "source": [
    "##### As we can see that our data is highly unbalanced. Therefore, this feature needs to be treated carefully for our model to work correctly. The transactions were found to be fraudulent only 0.0017% of the times."
   ]
  },
  {
   "cell_type": "markdown",
   "id": "efce6353",
   "metadata": {},
   "source": [
    "## Data Transformation"
   ]
  },
  {
   "cell_type": "code",
   "execution_count": 7,
   "id": "db421172",
   "metadata": {},
   "outputs": [],
   "source": [
    "x.drop('Time', axis = 1, inplace = True)"
   ]
  },
  {
   "cell_type": "markdown",
   "id": "d8625451",
   "metadata": {},
   "source": [
    "The 'time' feature in our data stores the time at which the transaction was occurred. Since, time feature has almost no impact on our class variable, we will remove it from the analysis."
   ]
  },
  {
   "cell_type": "code",
   "execution_count": 8,
   "id": "1cf0af6e",
   "metadata": {},
   "outputs": [
    {
     "name": "stdout",
     "output_type": "stream",
     "text": [
      "For Fraudulent Cases:\n",
      " count    284315.000000\n",
      "mean         88.291022\n",
      "std         250.105092\n",
      "min           0.000000\n",
      "25%           5.650000\n",
      "50%          22.000000\n",
      "75%          77.050000\n",
      "max       25691.160000\n",
      "Name: Amount, dtype: float64\n",
      "For Not-Fraudulent Cases:\n",
      " count     492.000000\n",
      "mean      122.211321\n",
      "std       256.683288\n",
      "min         0.000000\n",
      "25%         1.000000\n",
      "50%         9.250000\n",
      "75%       105.890000\n",
      "max      2125.870000\n",
      "Name: Amount, dtype: float64\n"
     ]
    }
   ],
   "source": [
    "fraud = x[x.Class == 0]\n",
    "non_fraud = x[x.Class == 1]\n",
    "print('For Fraudulent Cases:\\n',fraud['Amount'].describe())\n",
    "print('For Not-Fraudulent Cases:\\n',non_fraud['Amount'].describe())"
   ]
  },
  {
   "cell_type": "markdown",
   "id": "9bac3aa5",
   "metadata": {},
   "source": [
    "As, we can see from the fugures the difference between the minimum and maximum value in out dataset is quite high. So to reduce that high difference, we need to scale our 'Amount' data."
   ]
  },
  {
   "cell_type": "code",
   "execution_count": 9,
   "id": "50a4a252",
   "metadata": {},
   "outputs": [
    {
     "name": "stdout",
     "output_type": "stream",
     "text": [
      "0    0.244964\n",
      "1   -0.342475\n",
      "2    1.160686\n",
      "3    0.140534\n",
      "4   -0.073403\n",
      "Name: Amount, dtype: float64\n"
     ]
    }
   ],
   "source": [
    "sc = StandardScaler()\n",
    "x['Amount'] = sc.fit_transform(x['Amount'].values.reshape(-1,1))\n",
    "print(x['Amount'].head())"
   ]
  },
  {
   "cell_type": "code",
   "execution_count": 10,
   "id": "1fb8b94e",
   "metadata": {
    "scrolled": true
   },
   "outputs": [
    {
     "name": "stdout",
     "output_type": "stream",
     "text": [
      "AFTER Scaling the Amount column...\n",
      "For Fraudulent Cases:\n",
      " count    284315.000000\n",
      "mean         -0.000234\n",
      "std           0.999942\n",
      "min          -0.353229\n",
      "25%          -0.330640\n",
      "50%          -0.265271\n",
      "75%          -0.045177\n",
      "max         102.362243\n",
      "Name: Amount, dtype: float64\n",
      "For Not-Fraudulent Cases:\n",
      " count    492.000000\n",
      "mean       0.135382\n",
      "std        1.026242\n",
      "min       -0.353229\n",
      "25%       -0.349231\n",
      "50%       -0.316247\n",
      "75%        0.070128\n",
      "max        8.146182\n",
      "Name: Amount, dtype: float64\n"
     ]
    }
   ],
   "source": [
    "print('AFTER Scaling the Amount column...')\n",
    "\n",
    "fraud = x[x.Class == 0]\n",
    "non_fraud = x[x.Class == 1]\n",
    "print('For Fraudulent Cases:\\n',fraud['Amount'].describe())\n",
    "print('For Not-Fraudulent Cases:\\n',non_fraud['Amount'].describe())"
   ]
  },
  {
   "cell_type": "markdown",
   "id": "5bcb85b3",
   "metadata": {},
   "source": [
    "Now, the difference is quite low and we can proceed to split our data for training and testing."
   ]
  },
  {
   "cell_type": "markdown",
   "id": "68a9f924",
   "metadata": {},
   "source": [
    "## Data Split"
   ]
  },
  {
   "cell_type": "code",
   "execution_count": 11,
   "id": "00cb8bd8",
   "metadata": {},
   "outputs": [],
   "source": [
    "X = x.drop('Class', axis = 1).values\n",
    "Y = x['Class'].values"
   ]
  },
  {
   "cell_type": "markdown",
   "id": "09683a60",
   "metadata": {},
   "source": [
    "We will split our data into 2 parts with the 80% data being used for training and the rest 20% for testing."
   ]
  },
  {
   "cell_type": "code",
   "execution_count": 12,
   "id": "867a4f0f",
   "metadata": {},
   "outputs": [
    {
     "name": "stdout",
     "output_type": "stream",
     "text": [
      "[[-0.80881852  0.95796949  1.29976471 ... -1.17025012 -0.46959663\n",
      "   0.01479444]\n",
      " [-4.4118628   0.79414298  0.64015646 ... -0.70429786  0.79616166\n",
      "   0.10655052]\n",
      " [ 1.39926271 -1.01895704  0.02634665 ...  0.01795479  0.00444739\n",
      "  -0.17535454]\n",
      " ...\n",
      " [-1.52836505  0.03091616 -1.19820363 ... -0.40219989  0.4379317\n",
      "  -0.27326767]\n",
      " [ 2.02006771  0.0813778  -1.61261144 ... -0.06918258 -0.03986921\n",
      "  -0.34927129]\n",
      " [-0.2754114   1.12338425  0.94977484 ...  0.24577705  0.08950088\n",
      "  -0.34807186]] [[ 2.06055104e+00 -1.26943231e-01 -1.08304498e+00 ... -7.76558409e-02\n",
      "  -6.20810281e-02 -3.45313182e-01]\n",
      " [-3.80436371e-01  1.48885899e+00 -5.04438327e-01 ...  4.73292390e-01\n",
      "   1.36921153e-01 -3.48471670e-01]\n",
      " [ 2.04618103e+00 -1.46262420e+00  1.26423833e-02 ...  3.96119622e-02\n",
      "  -2.92371454e-02 -7.37631680e-02]\n",
      " ...\n",
      " [ 1.89086170e-02  8.88682235e-01 -4.05859260e-02 ...  1.75183732e-01\n",
      "  -1.00897609e-01 -3.43793910e-01]\n",
      " [ 2.35988192e+00 -1.15775048e+00 -1.68767038e+00 ... -8.07947547e-03\n",
      "  -5.31976866e-02 -2.19293505e-01]\n",
      " [ 1.69967243e+00 -2.39563213e+00 -1.21864806e+00 ... -3.28560552e-02\n",
      "  -6.86613269e-04  8.86177327e-01]] [0 0 0 ... 0 0 0] [0 0 0 ... 0 0 0]\n"
     ]
    }
   ],
   "source": [
    "xtrain, xtest, ytrain, ytest = train_test_split(X,Y, test_size = 0.2)\n",
    "print(xtrain, xtest, ytrain, ytest)"
   ]
  },
  {
   "cell_type": "markdown",
   "id": "c1104527",
   "metadata": {},
   "source": [
    "## Modelling"
   ]
  },
  {
   "cell_type": "markdown",
   "id": "e3711112",
   "metadata": {},
   "source": [
    "To select the best model we need to compare the performance of all the models so that we can pick the best one out ofo them. Therefore, the models selected here are: Logistic Regression, Support Vector Machine, K-Nearest Neighbour, Decision Tree and Random Forest."
   ]
  },
  {
   "cell_type": "code",
   "execution_count": 13,
   "id": "33690763",
   "metadata": {},
   "outputs": [],
   "source": [
    "from sklearn.linear_model import LogisticRegression\n",
    "from sklearn.svm import SVC\n",
    "from sklearn.neighbors import KNeighborsClassifier\n",
    "from sklearn.tree import DecisionTreeClassifier\n",
    "from sklearn.ensemble import RandomForestClassifier"
   ]
  },
  {
   "cell_type": "code",
   "execution_count": 14,
   "id": "d620fb96",
   "metadata": {},
   "outputs": [],
   "source": [
    "# Logistic Regression\n",
    "\n",
    "logreg = LogisticRegression().fit(xtrain, ytrain)\n",
    "lr_res = logreg.predict(xtest)"
   ]
  },
  {
   "cell_type": "code",
   "execution_count": 15,
   "id": "3b01f4db",
   "metadata": {},
   "outputs": [],
   "source": [
    "#SVM\n",
    "\n",
    "svm = SVC().fit(xtrain, ytrain)\n",
    "svm_res = svm.predict(xtest)"
   ]
  },
  {
   "cell_type": "code",
   "execution_count": 16,
   "id": "0d871af7",
   "metadata": {},
   "outputs": [],
   "source": [
    "#KNN\n",
    "\n",
    "k = KNeighborsClassifier().fit(xtrain, ytrain)\n",
    "k_res = k.predict(xtest)"
   ]
  },
  {
   "cell_type": "code",
   "execution_count": 17,
   "id": "d2951129",
   "metadata": {},
   "outputs": [],
   "source": [
    "#Decision Tree\n",
    "\n",
    "dt = DecisionTreeClassifier(max_depth = 4, criterion = 'entropy')\n",
    "dt.fit(xtrain, ytrain)\n",
    "dt_res = dt.predict(xtest)"
   ]
  },
  {
   "cell_type": "code",
   "execution_count": 18,
   "id": "51ea5d44",
   "metadata": {},
   "outputs": [],
   "source": [
    "#Random Forest\n",
    "\n",
    "rf = RandomForestClassifier(max_depth = 4)\n",
    "rf.fit(xtrain, ytrain)\n",
    "rf_res = rf.predict(xtest)"
   ]
  },
  {
   "cell_type": "markdown",
   "id": "8a3b5707",
   "metadata": {},
   "source": [
    "## Evaluation"
   ]
  },
  {
   "cell_type": "code",
   "execution_count": 19,
   "id": "55b67b1d",
   "metadata": {},
   "outputs": [],
   "source": [
    "from sklearn.metrics import confusion_matrix, accuracy_score, f1_score"
   ]
  },
  {
   "cell_type": "code",
   "execution_count": 41,
   "id": "5aec1935",
   "metadata": {},
   "outputs": [],
   "source": [
    "acc = []\n",
    "f1= []\n",
    "def accuracy(model):\n",
    "    acc.append(accuracy_score(ytest, model)*100)\n",
    "    return accuracy_score(ytest, model)*100\n",
    "\n",
    "def score(model):\n",
    "    f1.append(f1_score(ytest, model))\n",
    "    return f1_score(ytest, model)\n"
   ]
  },
  {
   "cell_type": "code",
   "execution_count": 42,
   "id": "a6aa940e",
   "metadata": {},
   "outputs": [
    {
     "name": "stdout",
     "output_type": "stream",
     "text": [
      "ACCURACY SCORE FOR THE MODELS:\n",
      "Logistic Regression: 99.91222218320986\n",
      "SVM: 99.92451107756047\n",
      "KNN: 99.95435553526913\n",
      "Decision Tree: 99.91748885221726\n",
      "Random Forest: 99.93504441557529\n"
     ]
    }
   ],
   "source": [
    "print('ACCURACY SCORE FOR THE MODELS:')\n",
    "print('Logistic Regression:', accuracy(lr_res))\n",
    "print('SVM:', accuracy(svm_res))\n",
    "print('KNN:', accuracy(k_res))\n",
    "print('Decision Tree:', accuracy(dt_res))\n",
    "print('Random Forest:', accuracy(rf_res))"
   ]
  },
  {
   "cell_type": "markdown",
   "id": "a1541acf",
   "metadata": {},
   "source": [
    "## Analysis"
   ]
  },
  {
   "cell_type": "code",
   "execution_count": 43,
   "id": "6debff42",
   "metadata": {},
   "outputs": [
    {
     "name": "stdout",
     "output_type": "stream",
     "text": [
      "F1 - SCORE FOR THE MODELS:\n",
      "Logistic Regression: 0.7058823529411764\n",
      "SVM: 0.7485380116959063\n",
      "KNN: 0.8602150537634409\n",
      "Decision Tree: 0.7486631016042781\n",
      "Random Forest: 0.7955801104972376\n"
     ]
    }
   ],
   "source": [
    "print('F1 - SCORE FOR THE MODELS:')\n",
    "print('Logistic Regression:', score(lr_res))\n",
    "print('SVM:', score(svm_res))\n",
    "print('KNN:', score(k_res))\n",
    "print('Decision Tree:', score(dt_res))\n",
    "print('Random Forest:', score(rf_res))"
   ]
  },
  {
   "cell_type": "markdown",
   "id": "d36e80e5",
   "metadata": {},
   "source": [
    "#### From the above F1 score and it can be concluded that the best model for the problem is 'K-Nearest Neighbour' with an accuracy of 99.95% and F1 Score of 0.860."
   ]
  },
  {
   "cell_type": "code",
   "execution_count": 47,
   "id": "3489a1de",
   "metadata": {},
   "outputs": [
    {
     "data": {
      "image/png": "[encoded data removed]",
      "text/plain": [
       "<Figure size 432x288 with 1 Axes>"
      ]
     },
     "metadata": {
      "needs_background": "light"
     },
     "output_type": "display_data"
    }
   ],
   "source": [
    "fscore = np.array(f1)\n",
    "plt.bar(['LR','SVM','KNN','DT','RF'],fscore)\n",
    "plt.title('PLOT OF F-1 SCORE FOR EACH MODEL')\n",
    "plt.xlabel('Models')\n",
    "plt.ylabel('Scores')\n",
    "plt.show()"
   ]
  },
  {
   "cell_type": "markdown",
   "id": "87ddfd59",
   "metadata": {},
   "source": [
    "### Confusion Matrix"
   ]
  },
  {
   "cell_type": "markdown",
   "id": "2b3b6a97",
   "metadata": {},
   "source": [
    "Now, we will go ahead and try to visualize the performance of our models through CONFUSION MATRIX."
   ]
  },
  {
   "cell_type": "code",
   "execution_count": 23,
   "id": "78a7c7c8",
   "metadata": {},
   "outputs": [],
   "source": [
    "from sklearn.metrics import confusion_matrix, ConfusionMatrixDisplay"
   ]
  },
  {
   "cell_type": "code",
   "execution_count": 24,
   "id": "ea7a5d73",
   "metadata": {},
   "outputs": [
    {
     "data": {
      "image/png": "[encoded data removed]",
      "text/plain": [
       "<Figure size 432x288 with 2 Axes>"
      ]
     },
     "metadata": {
      "needs_background": "light"
     },
     "output_type": "display_data"
    },
    {
     "data": {
      "image/png": "[encoded data removed]",
      "text/plain": [
       "<Figure size 432x288 with 2 Axes>"
      ]
     },
     "metadata": {
      "needs_background": "light"
     },
     "output_type": "display_data"
    },
    {
     "data": {
      "image/png": "[encoded data removed]",
      "text/plain": [
       "<Figure size 432x288 with 2 Axes>"
      ]
     },
     "metadata": {
      "needs_background": "light"
     },
     "output_type": "display_data"
    },
    {
     "data": {
      "image/png": "[encoded data removed]",
      "text/plain": [
       "<Figure size 432x288 with 2 Axes>"
      ]
     },
     "metadata": {
      "needs_background": "light"
     },
     "output_type": "display_data"
    },
    {
     "data": {
      "image/png": "[encoded data removed]",
      "text/plain": [
       "<Figure size 432x288 with 2 Axes>"
      ]
     },
     "metadata": {
      "needs_background": "light"
     },
     "output_type": "display_data"
    }
   ],
   "source": [
    "predicts = [lr_res,svm_res,k_res,dt_res,rf_res]\n",
    "\n",
    "matr = confusion_matrix(ytest, lr_res, labels = [0,1])\n",
    "disp = ConfusionMatrixDisplay(matr, display_labels = [0,1])\n",
    "disp.plot()\n",
    "plt.title('Logistic Regression')\n",
    "plt.show()\n",
    "\n",
    "matr = confusion_matrix(ytest, svm_res, labels = [0,1])\n",
    "disp = ConfusionMatrixDisplay(matr, display_labels = [0,1])\n",
    "disp.plot()\n",
    "plt.title('Support Vector Machine')\n",
    "plt.show()\n",
    "\n",
    "matr = confusion_matrix(ytest, k_res, labels = [0,1])\n",
    "disp = ConfusionMatrixDisplay(matr, display_labels = [0,1])\n",
    "disp.plot()\n",
    "plt.title('K-Nearest Neighbor')\n",
    "plt.show()\n",
    "\n",
    "matr = confusion_matrix(ytest, dt_res, labels = [0,1])\n",
    "disp = ConfusionMatrixDisplay(matr, display_labels = [0,1])\n",
    "disp.plot()\n",
    "plt.title('Decision Tree')\n",
    "plt.show()\n",
    "\n",
    "matr = confusion_matrix(ytest, rf_res, labels = [0,1])\n",
    "disp = ConfusionMatrixDisplay(matr, display_labels = [0,1])\n",
    "disp.plot()\n",
    "plt.title('Random Forest')\n",
    "plt.show()"
   ]
  },
  {
   "cell_type": "markdown",
   "id": "f16b72e3",
   "metadata": {},
   "source": [
    "##### Here, we have plotted Confusion Matrix for each of the model that we was created. the label '0' stands for 'Non-Fraudulent CASES' and '1' represents 'Fradulent Cases'.\n",
    "\n",
    "#### The Confusion Matrix can easily be used to calculate the Accuracy, Precision and Recall. And collectively they can be used to calculate the 'F-1 Score'.\n",
    "\n",
    "#### Therefore our best model for this problem is 'K-Nearest Neighbour.'"
   ]
  }
 ],
 "metadata": {
  "kernelspec": {
   "display_name": "Python 3",
   "language": "python",
   "name": "python3"
  },
  "language_info": {
   "codemirror_mode": {
    "name": "ipython",
    "version": 3
   },
   "file_extension": ".py",
   "mimetype": "text/x-python",
   "name": "python",
   "nbconvert_exporter": "python",
   "pygments_lexer": "ipython3",
   "version": "3.8.8"
  }
 },
 "nbformat": 4,
 "nbformat_minor": 5
}
